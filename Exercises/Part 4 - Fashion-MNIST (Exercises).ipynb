{
 "cells": [
  {
   "cell_type": "markdown",
   "metadata": {},
   "source": [
    "# Classifying Fashion-MNIST\n",
    "\n",
    "Now it's your turn to build and train a neural network. You'll be using the [Fashion-MNIST dataset](https://github.com/zalandoresearch/fashion-mnist), a drop-in replacement for the MNIST dataset. MNIST is actually quite trivial with neural networks where you can easily achieve better than 97% accuracy. Fashion-MNIST is a set of 28x28 greyscale images of clothes. It's more complex than MNIST, so it's a better representation of the actual performance of your network, and a better representation of datasets you'll use in the real world.\n",
    "\n",
    "<img src='assets/fashion-mnist-sprite.png' width=500px>\n",
    "\n",
    "In this notebook, you'll build your own neural network. For the most part, you could just copy and paste the code from Part 3, but you wouldn't be learning. It's important for you to write the code yourself and get it to work. Feel free to consult the previous notebooks though as you work through this.\n",
    "\n",
    "First off, let's load the dataset through torchvision."
   ]
  },
  {
   "cell_type": "code",
   "execution_count": 1,
   "metadata": {},
   "outputs": [],
   "source": [
    "import torch\n",
    "from torchvision import datasets, transforms\n",
    "import helper\n",
    "\n",
    "# Define a transform to normalize the data\n",
    "transform = transforms.Compose([transforms.ToTensor(),\n",
    "                                transforms.Normalize((0.5,), (0.5,))])\n",
    "# Download and load the training data\n",
    "trainset = datasets.FashionMNIST('~/.pytorch/F_MNIST_data/', download=True, train=True, transform=transform)\n",
    "trainloader = torch.utils.data.DataLoader(trainset, batch_size=64, shuffle=True)\n",
    "\n",
    "# Download and load the test data\n",
    "testset = datasets.FashionMNIST('~/.pytorch/F_MNIST_data/', download=True, train=False, transform=transform)\n",
    "testloader = torch.utils.data.DataLoader(testset, batch_size=64, shuffle=True)"
   ]
  },
  {
   "cell_type": "markdown",
   "metadata": {},
   "source": [
    "Here we can see one of the images."
   ]
  },
  {
   "cell_type": "code",
   "execution_count": 2,
   "metadata": {},
   "outputs": [
    {
     "data": {
      "image/png": "[encoded data removed]",
      "text/plain": [
       "<Figure size 432x288 with 1 Axes>"
      ]
     },
     "metadata": {
      "needs_background": "light"
     },
     "output_type": "display_data"
    }
   ],
   "source": [
    "image, label = next(iter(trainloader))\n",
    "helper.imshow(image[0,:]);"
   ]
  },
  {
   "cell_type": "markdown",
   "metadata": {},
   "source": [
    "## Building the network\n",
    "\n",
    "Here you should define your network. As with MNIST, each image is 28x28 which is a total of 784 pixels, and there are 10 classes. You should include at least one hidden layer. We suggest you use ReLU activations for the layers and to return the logits or log-softmax from the forward pass. It's up to you how many layers you add and the size of those layers.\n",
    "\n",
    ">**Exercise 4.1:** Build your own network based on these suggestion."
   ]
  },
  {
   "cell_type": "code",
   "execution_count": 3,
   "metadata": {},
   "outputs": [],
   "source": [
    "## Exercise 4.1:\n",
    "## TODO: Define your network architecture here\n",
    "from torch import nn\n",
    "\n",
    "# Yhden piilokerroksen verkko\n",
    "model1 = nn.Sequential(nn.Linear(784,128),\n",
    "                       nn.ReLU(),\n",
    "                       nn.Linear(128,64),\n",
    "                       nn.ReLU(),\n",
    "                       nn.Linear(64,10),\n",
    "                       nn.LogSoftmax(dim=1))\n",
    "\n",
    "# Inputille ja hiddeneille ReLU-aktivointifunktio ja outputille LogSoftmaxi\n",
    "# Inputiksi 784, koska kuvat ovat 28x28 eli 784 pixeliä\n",
    "# Hiddeneiden output aina puolittuu\n",
    "# Outputiksi 10, koska kuvat jaetaan kymmeneen eri luokkaan\n",
    "\n",
    "# Kolmen hidden layerin verkko\n",
    "model2 = nn.Sequential(nn.Linear(784,256),\n",
    "                       nn.ReLU(),\n",
    "                       nn.Linear(256,128),\n",
    "                       nn.ReLU(),\n",
    "                       nn.Linear(128,64),\n",
    "                       nn.ReLU(),\n",
    "                       nn.Linear(64,32),\n",
    "                       nn.ReLU(),\n",
    "                       nn.Linear(32,10),\n",
    "                       nn.LogSoftmax(dim=1))\n",
    "\n",
    "# Määritellään malli\n",
    "model = model1 "
   ]
  },
  {
   "cell_type": "markdown",
   "metadata": {},
   "source": [
    "# Train the network\n",
    "\n",
    "Now you should create your network and train it. First you'll want to define [the criterion](http://pytorch.org/docs/master/nn.html#loss-functions) ( something like `nn.CrossEntropyLoss`) and [the optimizer](http://pytorch.org/docs/master/optim.html) (typically `optim.SGD` or `optim.Adam`).\n",
    "\n",
    "Then write the training code. Remember the training pass is a fairly straightforward process:\n",
    "\n",
    "* Make a forward pass through the network to get the logits \n",
    "* Use the logits to calculate the loss\n",
    "* Perform a backward pass through the network with `loss.backward()` to calculate the gradients\n",
    "* Take a step with the optimizer to update the weights\n",
    "\n",
    "By adjusting the hyperparameters (hidden units, learning rate, etc), you should be able to get the training loss below 0.4.\n",
    "\n",
    "\n",
    ">**Exercise 4.2:** Create network (model), define loss (criterion) and define optimizer.\n",
    ">\n",
    ">**Exercise 4.3:** Train the network.\n",
    ">\n",
    ">**Exercise 4.4:** Calculate the class probabilities for network output.\n"
   ]
  },
  {
   "cell_type": "code",
   "execution_count": 4,
   "metadata": {},
   "outputs": [
    {
     "name": "stdout",
     "output_type": "stream",
     "text": [
      "Specs of the network:\n",
      "\n",
      "-------------------------------------------------------------\n",
      "\n",
      "Model: Sequential(\n",
      "  (0): Linear(in_features=784, out_features=128, bias=True)\n",
      "  (1): ReLU()\n",
      "  (2): Linear(in_features=128, out_features=64, bias=True)\n",
      "  (3): ReLU()\n",
      "  (4): Linear(in_features=64, out_features=10, bias=True)\n",
      "  (5): LogSoftmax(dim=1)\n",
      ")\n",
      "\n",
      "-------------------------------------------------------------\n",
      "\n",
      "Loss: CrossEntropyLoss()\n",
      "\n",
      "-------------------------------------------------------------\n",
      "\n",
      "Optimizer: SGD (\n",
      "Parameter Group 0\n",
      "    dampening: 0\n",
      "    lr: 0.003\n",
      "    momentum: 0\n",
      "    nesterov: False\n",
      "    weight_decay: 0\n",
      ")\n"
     ]
    }
   ],
   "source": [
    "## Exercise 4.2:\n",
    "# TODO: Create the network, define the criterion and optimizer\n",
    "from torch import optim\n",
    "\n",
    "#criterion = nn.CrossEntropyLoss()\n",
    "criterion = nn.NLLLoss()\n",
    "\n",
    "\n",
    "# Optimizeriksi kokeillaan SGD:tä ja sen parametreiksi verkon parametrit sekä learning rate\n",
    "optimizer = optim.SGD(model.parameters(), lr = 0.003)\n",
    "print(\"Specs of the network:\")\n",
    "print(\"\\n-------------------------------------------------------------\")\n",
    "print(\"\\nModel:\", model)\n",
    "print(\"\\n-------------------------------------------------------------\")\n",
    "print(\"\\nLoss:\", criterion)\n",
    "print(\"\\n-------------------------------------------------------------\")\n",
    "print(\"\\nOptimizer:\", optimizer)"
   ]
  },
  {
   "cell_type": "code",
   "execution_count": 6,
   "metadata": {},
   "outputs": [
    {
     "name": "stdout",
     "output_type": "stream",
     "text": [
      "Training loss: 0.8550967487699187\n",
      "Training loss: 0.6793823423606755\n",
      "Training loss: 0.6087733765464347\n",
      "Training loss: 0.5644531413944546\n",
      "Training loss: 0.5331031113926535\n"
     ]
    }
   ],
   "source": [
    "## Exercise 4.3:\n",
    "# TODO: Train the network here (see \"Part 3 - Training Neural Networks (Exercises).ipynb\" for tips.)\n",
    "# Calculate 5 epochs and print \"Training Loss:\" after every epoch\n",
    "\n",
    "# Asetetaan viisi koulutuskierrosta (epochs)\n",
    "koulutuskierrokset = 5\n",
    "for kierros in range(koulutuskierrokset):\n",
    "    runningloss = 0\n",
    "    for image, label in trainloader:\n",
    "        # Muutetaan kuvat vektoriksi view metodia käyttäen\n",
    "        # Vektorin pituus on imagen koko (ensimmäisestä viimeiseen)\n",
    "        image = image.view(image.shape[0], -1)\n",
    "        # Nollataan edelliset gradientit ennen uutta ajoa\n",
    "        optimizer.zero_grad()\n",
    "        # Määritetään tulo ajamalla data verkon läpi\n",
    "        output = model(image)\n",
    "        # Määritellään loss-arvo ajamalla output ja oikea luokka virhefunktion läpi\n",
    "        loss = criterion(output,label)\n",
    "        # Käytetään backward-metodia gradienttien laskemiseen\n",
    "        loss.backward()\n",
    "        # Päivitetään uudet painoarvot\n",
    "        optimizer.step()\n",
    "        \n",
    "        runningloss += loss.item()\n",
    "    else:\n",
    "        print(f\"Training loss: {runningloss/len(trainloader)}\")        "
   ]
  },
  {
   "cell_type": "markdown",
   "metadata": {},
   "source": [
    "Testasin molempia verkkoja. Hidden layereiden määrä ei tässä tapauksessa tuntunut merkittävästi vaikuttavan virheeseen."
   ]
  },
  {
   "cell_type": "markdown",
   "metadata": {},
   "source": [
    "Virheen kuuluisi pienytyä kokoajan eikä heilahdella. Jos se heilahtelee virhe voi olla batchin koossa (liian pieni), koodissa tai verkossa."
   ]
  },
  {
   "cell_type": "code",
   "execution_count": 7,
   "metadata": {},
   "outputs": [
    {
     "data": {
      "image/png": "[encoded data removed]",
      "text/plain": [
       "<Figure size 432x648 with 2 Axes>"
      ]
     },
     "metadata": {
      "image/png": {
       "height": 204,
       "width": 423
      },
      "needs_background": "light"
     },
     "output_type": "display_data"
    }
   ],
   "source": [
    "## Exercise 4.4: (see \"Part 3 - Training Neural Networks (Exercises).ipynb\" for tips.)\n",
    "\n",
    "%matplotlib inline\n",
    "%config InlineBackend.figure_format = 'retina'\n",
    "\n",
    "import helper\n",
    "\n",
    "# Test out your network!\n",
    "\n",
    "# Testataan verkkoa seuraavaksi testidatalla\n",
    "dataiter = iter(testloader)\n",
    "# Next ottaa yhden mini-batchin eli 64, 64 kuvaa\n",
    "images, labels = dataiter.next()\n",
    "img = images[0]\n",
    "# Convert 2D image to 1D vector\n",
    "img = img.resize_(1, 784)\n",
    "\n",
    "# TODO: Calculate the class probabilities (softmax) for img\n",
    "\n",
    "# Nopeutetaan laskentaa ottamalla automaattinen gradientinlasku pois päältä\n",
    "with torch.no_grad():\n",
    "    logps = model(img)\n",
    "\n",
    "# Verkon ulostulot/lähdöt (output) ovat logaritmisiä todennäköisyyksiä\n",
    "# Joten otetaan exponenttifunktio siitä\n",
    "ps = torch.exp(logps)\n",
    "\n",
    "# Plotataan kuva sekä todennäköisyydet\n",
    "helper.view_classify(img.resize_(1, 28, 28), ps, version='Fashion')"
   ]
  },
  {
   "cell_type": "markdown",
   "metadata": {},
   "source": [
    "## Reflection\n",
    "\n",
    "- Does network Training Loss decrease monotonously? And why this is important?\n",
    "- Re-train network few times. Where network is unsure? How about if you train it only 1 epoch? \n"
   ]
  },
  {
   "cell_type": "markdown",
   "metadata": {},
   "source": [
    "*Your answers here...*"
   ]
  },
  {
   "cell_type": "markdown",
   "metadata": {},
   "source": [
    "### Does network Training Loss decrease monotonously? And why this is important?\n",
    "\n",
    "Verkon virhe laskee tasaisesti niin kuin kuuluisikin, jos kaikki on mennyt oikein. Kun virhe laskee, huomataan että verkko lähtee oppimaan. \n",
    "\n",
    "### Re-train network few times. Where network is unsure? How about if you train it only 1 epoch? \n",
    "\n",
    "- Verkko on epävarma, jos kuvassa oleva kappale on epäselvä ja muistuttaa useampaa muuta kappaletta. Esimerkiksi paitojen ja takkien kanssa todennäköisyykissä esiintyy suurempaa hajontaa.\n",
    "- Kun testataan verkkoa vain yhdellä koulutuskierroksella uudestaan, pitää muistaa restartata kerneli ja sitten ajaa vasta koodi. Muuten ei huomaa mitään eroa epochien määrän muutoksessa, sillä edelliset ajot ovat muistissa. Yhdellä ajolla virhe on noin 2-3 kertaa suurempi, kuin viidennellä epochilla. "
   ]
  }
 ],
 "metadata": {
  "kernelspec": {
   "display_name": "Python 3",
   "language": "python",
   "name": "python3"
  },
  "language_info": {
   "codemirror_mode": {
    "name": "ipython",
    "version": 3
   },
   "file_extension": ".py",
   "mimetype": "text/x-python",
   "name": "python",
   "nbconvert_exporter": "python",
   "pygments_lexer": "ipython3",
   "version": "3.6.7"
  }
 },
 "nbformat": 4,
 "nbformat_minor": 2
}
